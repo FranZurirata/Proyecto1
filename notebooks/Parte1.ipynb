{
  "nbformat": 4,
  "nbformat_minor": 0,
  "metadata": {
    "colab": {
      "provenance": []
    },
    "kernelspec": {
      "name": "python3",
      "display_name": "Python 3"
    },
    "language_info": {
      "name": "python"
    }
  },
  "cells": [
    {
      "cell_type": "code",
      "execution_count": 2,
      "metadata": {
        "id": "wnQYeuAs-9f7"
      },
      "outputs": [],
      "source": [
        "import pandas as pd\n",
        "import numpy as np\n",
        "\n",
        "\n",
        "df = pd.read_csv('/content/retail_sales_dataset.csv')\n",
        "\n",
        "\n",
        "\n",
        "\n",
        "\n"
      ]
    },
    {
      "cell_type": "code",
      "source": [
        "#info sobre el dataframe\n",
        "df.info()"
      ],
      "metadata": {
        "id": "Ewx-Wltcmtv9",
        "colab": {
          "base_uri": "https://localhost:8080/"
        },
        "outputId": "2fcaec08-dfe1-4b8a-ca00-2b08ca3c246c"
      },
      "execution_count": 3,
      "outputs": [
        {
          "output_type": "stream",
          "name": "stdout",
          "text": [
            "<class 'pandas.core.frame.DataFrame'>\n",
            "RangeIndex: 1000 entries, 0 to 999\n",
            "Data columns (total 9 columns):\n",
            " #   Column            Non-Null Count  Dtype \n",
            "---  ------            --------------  ----- \n",
            " 0   Transaction ID    1000 non-null   int64 \n",
            " 1   Date              1000 non-null   object\n",
            " 2   Customer ID       1000 non-null   object\n",
            " 3   Gender            1000 non-null   object\n",
            " 4   Age               1000 non-null   int64 \n",
            " 5   Product Category  1000 non-null   object\n",
            " 6   Quantity          1000 non-null   int64 \n",
            " 7   Price per Unit    1000 non-null   int64 \n",
            " 8   Total Amount      1000 non-null   int64 \n",
            "dtypes: int64(5), object(4)\n",
            "memory usage: 70.4+ KB\n"
          ]
        }
      ]
    },
    {
      "cell_type": "code",
      "source": [
        "#tipos de datos de las columnas\n",
        "df.dtypes"
      ],
      "metadata": {
        "id": "BCtIZ7_-m0HV",
        "colab": {
          "base_uri": "https://localhost:8080/",
          "height": 366
        },
        "outputId": "ea4e1f13-8524-42e7-9b12-5c940bd49b98"
      },
      "execution_count": 4,
      "outputs": [
        {
          "output_type": "execute_result",
          "data": {
            "text/plain": [
              "Transaction ID       int64\n",
              "Date                object\n",
              "Customer ID         object\n",
              "Gender              object\n",
              "Age                  int64\n",
              "Product Category    object\n",
              "Quantity             int64\n",
              "Price per Unit       int64\n",
              "Total Amount         int64\n",
              "dtype: object"
            ],
            "text/html": [
              "<div>\n",
              "<style scoped>\n",
              "    .dataframe tbody tr th:only-of-type {\n",
              "        vertical-align: middle;\n",
              "    }\n",
              "\n",
              "    .dataframe tbody tr th {\n",
              "        vertical-align: top;\n",
              "    }\n",
              "\n",
              "    .dataframe thead th {\n",
              "        text-align: right;\n",
              "    }\n",
              "</style>\n",
              "<table border=\"1\" class=\"dataframe\">\n",
              "  <thead>\n",
              "    <tr style=\"text-align: right;\">\n",
              "      <th></th>\n",
              "      <th>0</th>\n",
              "    </tr>\n",
              "  </thead>\n",
              "  <tbody>\n",
              "    <tr>\n",
              "      <th>Transaction ID</th>\n",
              "      <td>int64</td>\n",
              "    </tr>\n",
              "    <tr>\n",
              "      <th>Date</th>\n",
              "      <td>object</td>\n",
              "    </tr>\n",
              "    <tr>\n",
              "      <th>Customer ID</th>\n",
              "      <td>object</td>\n",
              "    </tr>\n",
              "    <tr>\n",
              "      <th>Gender</th>\n",
              "      <td>object</td>\n",
              "    </tr>\n",
              "    <tr>\n",
              "      <th>Age</th>\n",
              "      <td>int64</td>\n",
              "    </tr>\n",
              "    <tr>\n",
              "      <th>Product Category</th>\n",
              "      <td>object</td>\n",
              "    </tr>\n",
              "    <tr>\n",
              "      <th>Quantity</th>\n",
              "      <td>int64</td>\n",
              "    </tr>\n",
              "    <tr>\n",
              "      <th>Price per Unit</th>\n",
              "      <td>int64</td>\n",
              "    </tr>\n",
              "    <tr>\n",
              "      <th>Total Amount</th>\n",
              "      <td>int64</td>\n",
              "    </tr>\n",
              "  </tbody>\n",
              "</table>\n",
              "</div><br><label><b>dtype:</b> object</label>"
            ]
          },
          "metadata": {},
          "execution_count": 4
        }
      ]
    },
    {
      "cell_type": "code",
      "source": [
        "#descripcion del df, incluyendo info como emdia, mediana. etc\n",
        "df.describe()\n"
      ],
      "metadata": {
        "id": "BuH166kFm5aN",
        "colab": {
          "base_uri": "https://localhost:8080/",
          "height": 300
        },
        "outputId": "c583df6d-e72e-40be-b07f-ef115278baff"
      },
      "execution_count": 5,
      "outputs": [
        {
          "output_type": "execute_result",
          "data": {
            "text/plain": [
              "       Transaction ID         Age     Quantity  Price per Unit  Total Amount\n",
              "count     1000.000000  1000.00000  1000.000000     1000.000000   1000.000000\n",
              "mean       500.500000    41.39200     2.514000      179.890000    456.000000\n",
              "std        288.819436    13.68143     1.132734      189.681356    559.997632\n",
              "min          1.000000    18.00000     1.000000       25.000000     25.000000\n",
              "25%        250.750000    29.00000     1.000000       30.000000     60.000000\n",
              "50%        500.500000    42.00000     3.000000       50.000000    135.000000\n",
              "75%        750.250000    53.00000     4.000000      300.000000    900.000000\n",
              "max       1000.000000    64.00000     4.000000      500.000000   2000.000000"
            ],
            "text/html": [
              "\n",
              "  <div id=\"df-ff1cd8b7-dbf4-4452-8ef3-b1684fe449d7\" class=\"colab-df-container\">\n",
              "    <div>\n",
              "<style scoped>\n",
              "    .dataframe tbody tr th:only-of-type {\n",
              "        vertical-align: middle;\n",
              "    }\n",
              "\n",
              "    .dataframe tbody tr th {\n",
              "        vertical-align: top;\n",
              "    }\n",
              "\n",
              "    .dataframe thead th {\n",
              "        text-align: right;\n",
              "    }\n",
              "</style>\n",
              "<table border=\"1\" class=\"dataframe\">\n",
              "  <thead>\n",
              "    <tr style=\"text-align: right;\">\n",
              "      <th></th>\n",
              "      <th>Transaction ID</th>\n",
              "      <th>Age</th>\n",
              "      <th>Quantity</th>\n",
              "      <th>Price per Unit</th>\n",
              "      <th>Total Amount</th>\n",
              "    </tr>\n",
              "  </thead>\n",
              "  <tbody>\n",
              "    <tr>\n",
              "      <th>count</th>\n",
              "      <td>1000.000000</td>\n",
              "      <td>1000.00000</td>\n",
              "      <td>1000.000000</td>\n",
              "      <td>1000.000000</td>\n",
              "      <td>1000.000000</td>\n",
              "    </tr>\n",
              "    <tr>\n",
              "      <th>mean</th>\n",
              "      <td>500.500000</td>\n",
              "      <td>41.39200</td>\n",
              "      <td>2.514000</td>\n",
              "      <td>179.890000</td>\n",
              "      <td>456.000000</td>\n",
              "    </tr>\n",
              "    <tr>\n",
              "      <th>std</th>\n",
              "      <td>288.819436</td>\n",
              "      <td>13.68143</td>\n",
              "      <td>1.132734</td>\n",
              "      <td>189.681356</td>\n",
              "      <td>559.997632</td>\n",
              "    </tr>\n",
              "    <tr>\n",
              "      <th>min</th>\n",
              "      <td>1.000000</td>\n",
              "      <td>18.00000</td>\n",
              "      <td>1.000000</td>\n",
              "      <td>25.000000</td>\n",
              "      <td>25.000000</td>\n",
              "    </tr>\n",
              "    <tr>\n",
              "      <th>25%</th>\n",
              "      <td>250.750000</td>\n",
              "      <td>29.00000</td>\n",
              "      <td>1.000000</td>\n",
              "      <td>30.000000</td>\n",
              "      <td>60.000000</td>\n",
              "    </tr>\n",
              "    <tr>\n",
              "      <th>50%</th>\n",
              "      <td>500.500000</td>\n",
              "      <td>42.00000</td>\n",
              "      <td>3.000000</td>\n",
              "      <td>50.000000</td>\n",
              "      <td>135.000000</td>\n",
              "    </tr>\n",
              "    <tr>\n",
              "      <th>75%</th>\n",
              "      <td>750.250000</td>\n",
              "      <td>53.00000</td>\n",
              "      <td>4.000000</td>\n",
              "      <td>300.000000</td>\n",
              "      <td>900.000000</td>\n",
              "    </tr>\n",
              "    <tr>\n",
              "      <th>max</th>\n",
              "      <td>1000.000000</td>\n",
              "      <td>64.00000</td>\n",
              "      <td>4.000000</td>\n",
              "      <td>500.000000</td>\n",
              "      <td>2000.000000</td>\n",
              "    </tr>\n",
              "  </tbody>\n",
              "</table>\n",
              "</div>\n",
              "    <div class=\"colab-df-buttons\">\n",
              "\n",
              "  <div class=\"colab-df-container\">\n",
              "    <button class=\"colab-df-convert\" onclick=\"convertToInteractive('df-ff1cd8b7-dbf4-4452-8ef3-b1684fe449d7')\"\n",
              "            title=\"Convert this dataframe to an interactive table.\"\n",
              "            style=\"display:none;\">\n",
              "\n",
              "  <svg xmlns=\"http://www.w3.org/2000/svg\" height=\"24px\" viewBox=\"0 -960 960 960\">\n",
              "    <path d=\"M120-120v-720h720v720H120Zm60-500h600v-160H180v160Zm220 220h160v-160H400v160Zm0 220h160v-160H400v160ZM180-400h160v-160H180v160Zm440 0h160v-160H620v160ZM180-180h160v-160H180v160Zm440 0h160v-160H620v160Z\"/>\n",
              "  </svg>\n",
              "    </button>\n",
              "\n",
              "  <style>\n",
              "    .colab-df-container {\n",
              "      display:flex;\n",
              "      gap: 12px;\n",
              "    }\n",
              "\n",
              "    .colab-df-convert {\n",
              "      background-color: #E8F0FE;\n",
              "      border: none;\n",
              "      border-radius: 50%;\n",
              "      cursor: pointer;\n",
              "      display: none;\n",
              "      fill: #1967D2;\n",
              "      height: 32px;\n",
              "      padding: 0 0 0 0;\n",
              "      width: 32px;\n",
              "    }\n",
              "\n",
              "    .colab-df-convert:hover {\n",
              "      background-color: #E2EBFA;\n",
              "      box-shadow: 0px 1px 2px rgba(60, 64, 67, 0.3), 0px 1px 3px 1px rgba(60, 64, 67, 0.15);\n",
              "      fill: #174EA6;\n",
              "    }\n",
              "\n",
              "    .colab-df-buttons div {\n",
              "      margin-bottom: 4px;\n",
              "    }\n",
              "\n",
              "    [theme=dark] .colab-df-convert {\n",
              "      background-color: #3B4455;\n",
              "      fill: #D2E3FC;\n",
              "    }\n",
              "\n",
              "    [theme=dark] .colab-df-convert:hover {\n",
              "      background-color: #434B5C;\n",
              "      box-shadow: 0px 1px 3px 1px rgba(0, 0, 0, 0.15);\n",
              "      filter: drop-shadow(0px 1px 2px rgba(0, 0, 0, 0.3));\n",
              "      fill: #FFFFFF;\n",
              "    }\n",
              "  </style>\n",
              "\n",
              "    <script>\n",
              "      const buttonEl =\n",
              "        document.querySelector('#df-ff1cd8b7-dbf4-4452-8ef3-b1684fe449d7 button.colab-df-convert');\n",
              "      buttonEl.style.display =\n",
              "        google.colab.kernel.accessAllowed ? 'block' : 'none';\n",
              "\n",
              "      async function convertToInteractive(key) {\n",
              "        const element = document.querySelector('#df-ff1cd8b7-dbf4-4452-8ef3-b1684fe449d7');\n",
              "        const dataTable =\n",
              "          await google.colab.kernel.invokeFunction('convertToInteractive',\n",
              "                                                    [key], {});\n",
              "        if (!dataTable) return;\n",
              "\n",
              "        const docLinkHtml = 'Like what you see? Visit the ' +\n",
              "          '<a target=\"_blank\" href=https://colab.research.google.com/notebooks/data_table.ipynb>data table notebook</a>'\n",
              "          + ' to learn more about interactive tables.';\n",
              "        element.innerHTML = '';\n",
              "        dataTable['output_type'] = 'display_data';\n",
              "        await google.colab.output.renderOutput(dataTable, element);\n",
              "        const docLink = document.createElement('div');\n",
              "        docLink.innerHTML = docLinkHtml;\n",
              "        element.appendChild(docLink);\n",
              "      }\n",
              "    </script>\n",
              "  </div>\n",
              "\n",
              "\n",
              "<div id=\"df-dbd80cff-e378-4dcf-b407-7a186d3f271c\">\n",
              "  <button class=\"colab-df-quickchart\" onclick=\"quickchart('df-dbd80cff-e378-4dcf-b407-7a186d3f271c')\"\n",
              "            title=\"Suggest charts\"\n",
              "            style=\"display:none;\">\n",
              "\n",
              "<svg xmlns=\"http://www.w3.org/2000/svg\" height=\"24px\"viewBox=\"0 0 24 24\"\n",
              "     width=\"24px\">\n",
              "    <g>\n",
              "        <path d=\"M19 3H5c-1.1 0-2 .9-2 2v14c0 1.1.9 2 2 2h14c1.1 0 2-.9 2-2V5c0-1.1-.9-2-2-2zM9 17H7v-7h2v7zm4 0h-2V7h2v10zm4 0h-2v-4h2v4z\"/>\n",
              "    </g>\n",
              "</svg>\n",
              "  </button>\n",
              "\n",
              "<style>\n",
              "  .colab-df-quickchart {\n",
              "      --bg-color: #E8F0FE;\n",
              "      --fill-color: #1967D2;\n",
              "      --hover-bg-color: #E2EBFA;\n",
              "      --hover-fill-color: #174EA6;\n",
              "      --disabled-fill-color: #AAA;\n",
              "      --disabled-bg-color: #DDD;\n",
              "  }\n",
              "\n",
              "  [theme=dark] .colab-df-quickchart {\n",
              "      --bg-color: #3B4455;\n",
              "      --fill-color: #D2E3FC;\n",
              "      --hover-bg-color: #434B5C;\n",
              "      --hover-fill-color: #FFFFFF;\n",
              "      --disabled-bg-color: #3B4455;\n",
              "      --disabled-fill-color: #666;\n",
              "  }\n",
              "\n",
              "  .colab-df-quickchart {\n",
              "    background-color: var(--bg-color);\n",
              "    border: none;\n",
              "    border-radius: 50%;\n",
              "    cursor: pointer;\n",
              "    display: none;\n",
              "    fill: var(--fill-color);\n",
              "    height: 32px;\n",
              "    padding: 0;\n",
              "    width: 32px;\n",
              "  }\n",
              "\n",
              "  .colab-df-quickchart:hover {\n",
              "    background-color: var(--hover-bg-color);\n",
              "    box-shadow: 0 1px 2px rgba(60, 64, 67, 0.3), 0 1px 3px 1px rgba(60, 64, 67, 0.15);\n",
              "    fill: var(--button-hover-fill-color);\n",
              "  }\n",
              "\n",
              "  .colab-df-quickchart-complete:disabled,\n",
              "  .colab-df-quickchart-complete:disabled:hover {\n",
              "    background-color: var(--disabled-bg-color);\n",
              "    fill: var(--disabled-fill-color);\n",
              "    box-shadow: none;\n",
              "  }\n",
              "\n",
              "  .colab-df-spinner {\n",
              "    border: 2px solid var(--fill-color);\n",
              "    border-color: transparent;\n",
              "    border-bottom-color: var(--fill-color);\n",
              "    animation:\n",
              "      spin 1s steps(1) infinite;\n",
              "  }\n",
              "\n",
              "  @keyframes spin {\n",
              "    0% {\n",
              "      border-color: transparent;\n",
              "      border-bottom-color: var(--fill-color);\n",
              "      border-left-color: var(--fill-color);\n",
              "    }\n",
              "    20% {\n",
              "      border-color: transparent;\n",
              "      border-left-color: var(--fill-color);\n",
              "      border-top-color: var(--fill-color);\n",
              "    }\n",
              "    30% {\n",
              "      border-color: transparent;\n",
              "      border-left-color: var(--fill-color);\n",
              "      border-top-color: var(--fill-color);\n",
              "      border-right-color: var(--fill-color);\n",
              "    }\n",
              "    40% {\n",
              "      border-color: transparent;\n",
              "      border-right-color: var(--fill-color);\n",
              "      border-top-color: var(--fill-color);\n",
              "    }\n",
              "    60% {\n",
              "      border-color: transparent;\n",
              "      border-right-color: var(--fill-color);\n",
              "    }\n",
              "    80% {\n",
              "      border-color: transparent;\n",
              "      border-right-color: var(--fill-color);\n",
              "      border-bottom-color: var(--fill-color);\n",
              "    }\n",
              "    90% {\n",
              "      border-color: transparent;\n",
              "      border-bottom-color: var(--fill-color);\n",
              "    }\n",
              "  }\n",
              "</style>\n",
              "\n",
              "  <script>\n",
              "    async function quickchart(key) {\n",
              "      const quickchartButtonEl =\n",
              "        document.querySelector('#' + key + ' button');\n",
              "      quickchartButtonEl.disabled = true;  // To prevent multiple clicks.\n",
              "      quickchartButtonEl.classList.add('colab-df-spinner');\n",
              "      try {\n",
              "        const charts = await google.colab.kernel.invokeFunction(\n",
              "            'suggestCharts', [key], {});\n",
              "      } catch (error) {\n",
              "        console.error('Error during call to suggestCharts:', error);\n",
              "      }\n",
              "      quickchartButtonEl.classList.remove('colab-df-spinner');\n",
              "      quickchartButtonEl.classList.add('colab-df-quickchart-complete');\n",
              "    }\n",
              "    (() => {\n",
              "      let quickchartButtonEl =\n",
              "        document.querySelector('#df-dbd80cff-e378-4dcf-b407-7a186d3f271c button');\n",
              "      quickchartButtonEl.style.display =\n",
              "        google.colab.kernel.accessAllowed ? 'block' : 'none';\n",
              "    })();\n",
              "  </script>\n",
              "</div>\n",
              "\n",
              "    </div>\n",
              "  </div>\n"
            ],
            "application/vnd.google.colaboratory.intrinsic+json": {
              "type": "dataframe",
              "summary": "{\n  \"name\": \"df\",\n  \"rows\": 8,\n  \"fields\": [\n    {\n      \"column\": \"Transaction ID\",\n      \"properties\": {\n        \"dtype\": \"number\",\n        \"std\": 360.1000917722167,\n        \"min\": 1.0,\n        \"max\": 1000.0,\n        \"num_unique_values\": 6,\n        \"samples\": [\n          1000.0,\n          500.5,\n          750.25\n        ],\n        \"semantic_type\": \"\",\n        \"description\": \"\"\n      }\n    },\n    {\n      \"column\": \"Age\",\n      \"properties\": {\n        \"dtype\": \"number\",\n        \"std\": 340.78610904107535,\n        \"min\": 13.681429659122532,\n        \"max\": 1000.0,\n        \"num_unique_values\": 8,\n        \"samples\": [\n          41.392,\n          42.0,\n          1000.0\n        ],\n        \"semantic_type\": \"\",\n        \"description\": \"\"\n      }\n    },\n    {\n      \"column\": \"Quantity\",\n      \"properties\": {\n        \"dtype\": \"number\",\n        \"std\": 352.71483432640656,\n        \"min\": 1.0,\n        \"max\": 1000.0,\n        \"num_unique_values\": 6,\n        \"samples\": [\n          1000.0,\n          2.514,\n          4.0\n        ],\n        \"semantic_type\": \"\",\n        \"description\": \"\"\n      }\n    },\n    {\n      \"column\": \"Price per Unit\",\n      \"properties\": {\n        \"dtype\": \"number\",\n        \"std\": 330.7254087976672,\n        \"min\": 25.0,\n        \"max\": 1000.0,\n        \"num_unique_values\": 8,\n        \"samples\": [\n          179.89,\n          50.0,\n          1000.0\n        ],\n        \"semantic_type\": \"\",\n        \"description\": \"\"\n      }\n    },\n    {\n      \"column\": \"Total Amount\",\n      \"properties\": {\n        \"dtype\": \"number\",\n        \"std\": 660.8084213867855,\n        \"min\": 25.0,\n        \"max\": 2000.0,\n        \"num_unique_values\": 8,\n        \"samples\": [\n          456.0,\n          135.0,\n          1000.0\n        ],\n        \"semantic_type\": \"\",\n        \"description\": \"\"\n      }\n    }\n  ]\n}"
            }
          },
          "metadata": {},
          "execution_count": 5
        }
      ]
    },
    {
      "cell_type": "code",
      "source": [
        "#suma valores q se repiten\n",
        "df.value_counts()"
      ],
      "metadata": {
        "colab": {
          "base_uri": "https://localhost:8080/",
          "height": 489
        },
        "id": "7on1y6jrnBB-",
        "outputId": "20fcf1ec-5f15-4722-d038-e154b0aff3cc"
      },
      "execution_count": 6,
      "outputs": [
        {
          "output_type": "execute_result",
          "data": {
            "text/plain": [
              "Transaction ID  Date        Customer ID  Gender  Age  Product Category  Quantity  Price per Unit  Total Amount\n",
              "1               2023-11-24  CUST001      Male    34   Beauty            3         50              150             1\n",
              "672             2023-08-01  CUST672      Female  34   Beauty            2         50              100             1\n",
              "659             2023-03-19  CUST659      Female  39   Electronics       1         30              30              1\n",
              "660             2023-04-29  CUST660      Female  38   Beauty            2         500             1000            1\n",
              "661             2023-07-16  CUST661      Female  44   Clothing          4         25              100             1\n",
              "                                                                                                                 ..\n",
              "339             2023-03-03  CUST339      Female  22   Electronics       2         25              50              1\n",
              "340             2023-10-19  CUST340      Female  36   Clothing          4         300             1200            1\n",
              "341             2023-05-07  CUST341      Male    31   Clothing          4         50              200             1\n",
              "342             2023-10-24  CUST342      Female  43   Clothing          4         500             2000            1\n",
              "1000            2023-04-12  CUST1000     Male    47   Electronics       4         30              120             1\n",
              "Name: count, Length: 1000, dtype: int64"
            ],
            "text/html": [
              "<div>\n",
              "<style scoped>\n",
              "    .dataframe tbody tr th:only-of-type {\n",
              "        vertical-align: middle;\n",
              "    }\n",
              "\n",
              "    .dataframe tbody tr th {\n",
              "        vertical-align: top;\n",
              "    }\n",
              "\n",
              "    .dataframe thead th {\n",
              "        text-align: right;\n",
              "    }\n",
              "</style>\n",
              "<table border=\"1\" class=\"dataframe\">\n",
              "  <thead>\n",
              "    <tr style=\"text-align: right;\">\n",
              "      <th></th>\n",
              "      <th></th>\n",
              "      <th></th>\n",
              "      <th></th>\n",
              "      <th></th>\n",
              "      <th></th>\n",
              "      <th></th>\n",
              "      <th></th>\n",
              "      <th></th>\n",
              "      <th>count</th>\n",
              "    </tr>\n",
              "    <tr>\n",
              "      <th>Transaction ID</th>\n",
              "      <th>Date</th>\n",
              "      <th>Customer ID</th>\n",
              "      <th>Gender</th>\n",
              "      <th>Age</th>\n",
              "      <th>Product Category</th>\n",
              "      <th>Quantity</th>\n",
              "      <th>Price per Unit</th>\n",
              "      <th>Total Amount</th>\n",
              "      <th></th>\n",
              "    </tr>\n",
              "  </thead>\n",
              "  <tbody>\n",
              "    <tr>\n",
              "      <th>1</th>\n",
              "      <th>2023-11-24</th>\n",
              "      <th>CUST001</th>\n",
              "      <th>Male</th>\n",
              "      <th>34</th>\n",
              "      <th>Beauty</th>\n",
              "      <th>3</th>\n",
              "      <th>50</th>\n",
              "      <th>150</th>\n",
              "      <td>1</td>\n",
              "    </tr>\n",
              "    <tr>\n",
              "      <th>672</th>\n",
              "      <th>2023-08-01</th>\n",
              "      <th>CUST672</th>\n",
              "      <th>Female</th>\n",
              "      <th>34</th>\n",
              "      <th>Beauty</th>\n",
              "      <th>2</th>\n",
              "      <th>50</th>\n",
              "      <th>100</th>\n",
              "      <td>1</td>\n",
              "    </tr>\n",
              "    <tr>\n",
              "      <th>659</th>\n",
              "      <th>2023-03-19</th>\n",
              "      <th>CUST659</th>\n",
              "      <th>Female</th>\n",
              "      <th>39</th>\n",
              "      <th>Electronics</th>\n",
              "      <th>1</th>\n",
              "      <th>30</th>\n",
              "      <th>30</th>\n",
              "      <td>1</td>\n",
              "    </tr>\n",
              "    <tr>\n",
              "      <th>660</th>\n",
              "      <th>2023-04-29</th>\n",
              "      <th>CUST660</th>\n",
              "      <th>Female</th>\n",
              "      <th>38</th>\n",
              "      <th>Beauty</th>\n",
              "      <th>2</th>\n",
              "      <th>500</th>\n",
              "      <th>1000</th>\n",
              "      <td>1</td>\n",
              "    </tr>\n",
              "    <tr>\n",
              "      <th>661</th>\n",
              "      <th>2023-07-16</th>\n",
              "      <th>CUST661</th>\n",
              "      <th>Female</th>\n",
              "      <th>44</th>\n",
              "      <th>Clothing</th>\n",
              "      <th>4</th>\n",
              "      <th>25</th>\n",
              "      <th>100</th>\n",
              "      <td>1</td>\n",
              "    </tr>\n",
              "    <tr>\n",
              "      <th>...</th>\n",
              "      <th>...</th>\n",
              "      <th>...</th>\n",
              "      <th>...</th>\n",
              "      <th>...</th>\n",
              "      <th>...</th>\n",
              "      <th>...</th>\n",
              "      <th>...</th>\n",
              "      <th>...</th>\n",
              "      <td>...</td>\n",
              "    </tr>\n",
              "    <tr>\n",
              "      <th>339</th>\n",
              "      <th>2023-03-03</th>\n",
              "      <th>CUST339</th>\n",
              "      <th>Female</th>\n",
              "      <th>22</th>\n",
              "      <th>Electronics</th>\n",
              "      <th>2</th>\n",
              "      <th>25</th>\n",
              "      <th>50</th>\n",
              "      <td>1</td>\n",
              "    </tr>\n",
              "    <tr>\n",
              "      <th>340</th>\n",
              "      <th>2023-10-19</th>\n",
              "      <th>CUST340</th>\n",
              "      <th>Female</th>\n",
              "      <th>36</th>\n",
              "      <th>Clothing</th>\n",
              "      <th>4</th>\n",
              "      <th>300</th>\n",
              "      <th>1200</th>\n",
              "      <td>1</td>\n",
              "    </tr>\n",
              "    <tr>\n",
              "      <th>341</th>\n",
              "      <th>2023-05-07</th>\n",
              "      <th>CUST341</th>\n",
              "      <th>Male</th>\n",
              "      <th>31</th>\n",
              "      <th>Clothing</th>\n",
              "      <th>4</th>\n",
              "      <th>50</th>\n",
              "      <th>200</th>\n",
              "      <td>1</td>\n",
              "    </tr>\n",
              "    <tr>\n",
              "      <th>342</th>\n",
              "      <th>2023-10-24</th>\n",
              "      <th>CUST342</th>\n",
              "      <th>Female</th>\n",
              "      <th>43</th>\n",
              "      <th>Clothing</th>\n",
              "      <th>4</th>\n",
              "      <th>500</th>\n",
              "      <th>2000</th>\n",
              "      <td>1</td>\n",
              "    </tr>\n",
              "    <tr>\n",
              "      <th>1000</th>\n",
              "      <th>2023-04-12</th>\n",
              "      <th>CUST1000</th>\n",
              "      <th>Male</th>\n",
              "      <th>47</th>\n",
              "      <th>Electronics</th>\n",
              "      <th>4</th>\n",
              "      <th>30</th>\n",
              "      <th>120</th>\n",
              "      <td>1</td>\n",
              "    </tr>\n",
              "  </tbody>\n",
              "</table>\n",
              "<p>1000 rows × 1 columns</p>\n",
              "</div><br><label><b>dtype:</b> int64</label>"
            ]
          },
          "metadata": {},
          "execution_count": 6
        }
      ]
    },
    {
      "cell_type": "code",
      "source": [
        "#valores unicos\n",
        "print(df['Product Category'].unique())\n"
      ],
      "metadata": {
        "colab": {
          "base_uri": "https://localhost:8080/"
        },
        "id": "oj-irOeQnkSK",
        "outputId": "38e2722f-c9d7-428d-f0c5-d1fcd9110623"
      },
      "execution_count": null,
      "outputs": [
        {
          "output_type": "stream",
          "name": "stdout",
          "text": [
            "['Beauty' 'Clothing' 'Electronics']\n"
          ]
        }
      ]
    },
    {
      "cell_type": "code",
      "source": [
        "#valores numericos unicos\n",
        "print(df['Product Category'].nunique())"
      ],
      "metadata": {
        "colab": {
          "base_uri": "https://localhost:8080/"
        },
        "id": "9nAkeAarnnYI",
        "outputId": "63767fd9-dc00-4596-a2ab-042425a38786"
      },
      "execution_count": 8,
      "outputs": [
        {
          "output_type": "stream",
          "name": "stdout",
          "text": [
            "3\n"
          ]
        }
      ]
    },
    {
      "cell_type": "code",
      "source": [
        "#mostrar datos faltantes\n",
        "print(df.isnull().sum())"
      ],
      "metadata": {
        "colab": {
          "base_uri": "https://localhost:8080/"
        },
        "id": "oLmVMBZNnvr0",
        "outputId": "f0008f4a-85d0-41c1-91bf-32429cd720f9"
      },
      "execution_count": 7,
      "outputs": [
        {
          "output_type": "stream",
          "name": "stdout",
          "text": [
            "Transaction ID      0\n",
            "Date                0\n",
            "Customer ID         0\n",
            "Gender              0\n",
            "Age                 0\n",
            "Product Category    0\n",
            "Quantity            0\n",
            "Price per Unit      0\n",
            "Total Amount        0\n",
            "dtype: int64\n"
          ]
        }
      ]
    },
    {
      "cell_type": "code",
      "source": [
        "#mostrar datos faltantes x columna\n",
        "\n",
        "print(df['Product Category'].isnull().sum())\n"
      ],
      "metadata": {
        "colab": {
          "base_uri": "https://localhost:8080/"
        },
        "id": "uP6y0dBmn7lO",
        "outputId": "02978a77-ac62-47ec-cf89-1af45a192b02"
      },
      "execution_count": 10,
      "outputs": [
        {
          "output_type": "stream",
          "name": "stdout",
          "text": [
            "0\n"
          ]
        }
      ]
    },
    {
      "cell_type": "code",
      "source": [
        "#se calculan las ventas totales x producto\n",
        "total_sales_by_product = df.groupby('Product Category')['Total Amount'].sum()\n",
        "print(\"Total de ventas por producto:\")\n",
        "print(total_sales_by_product)"
      ],
      "metadata": {
        "colab": {
          "base_uri": "https://localhost:8080/"
        },
        "id": "H6pu5vQpoORV",
        "outputId": "9c2ea683-f8a0-4f45-c6c9-92a964db36d2"
      },
      "execution_count": 11,
      "outputs": [
        {
          "output_type": "stream",
          "name": "stdout",
          "text": [
            "Total de ventas por producto:\n",
            "Product Category\n",
            "Beauty         143515\n",
            "Clothing       155580\n",
            "Electronics    156905\n",
            "Name: Total Amount, dtype: int64\n"
          ]
        }
      ]
    },
    {
      "cell_type": "code",
      "source": [
        "#calcular ventas por fecha\n",
        "#se normaliza fecha\n",
        "df['Date'] = pd.to_datetime(df['Date'])\n",
        "daily_sales_by_product = df.groupby([df['Date'].dt.date, 'Product Category'])['Total Amount'].mean()\n",
        "print(\"\\nVentas diarias por producto:\")\n",
        "print(daily_sales_by_product)"
      ],
      "metadata": {
        "colab": {
          "base_uri": "https://localhost:8080/"
        },
        "id": "fncB7O3rog3C",
        "outputId": "a7bab2cf-d8f0-4b57-c6c7-c674de490e85"
      },
      "execution_count": 12,
      "outputs": [
        {
          "output_type": "stream",
          "name": "stdout",
          "text": [
            "\n",
            "Ventas diarias por producto:\n",
            "Date        Product Category\n",
            "2023-01-01  Beauty              1500.0\n",
            "            Clothing            1050.0\n",
            "2023-01-02  Beauty                25.0\n",
            "            Clothing             825.0\n",
            "            Electronics           90.0\n",
            "                                 ...  \n",
            "2023-12-29  Beauty              1100.0\n",
            "            Electronics          100.0\n",
            "2023-12-31  Electronics           50.0\n",
            "2024-01-01  Beauty              1500.0\n",
            "            Electronics           30.0\n",
            "Name: Total Amount, Length: 655, dtype: float64\n"
          ]
        }
      ]
    },
    {
      "cell_type": "code",
      "source": [
        "#calcular el maximo y minimo de ventas por producto\n",
        "max_sales_product = total_sales_by_product.idxmax(), total_sales_by_product.max()\n",
        "print(\"\\nProducto con más ventas:\", max_sales_product)\n",
        "min_sales_product = total_sales_by_product.idxmin(), total_sales_by_product.min()\n",
        "print(\"\\nProducto con menos ventas:\", min_sales_product)"
      ],
      "metadata": {
        "id": "zCmZy7hotRxV",
        "colab": {
          "base_uri": "https://localhost:8080/"
        },
        "outputId": "9ce25570-a266-4959-9ff0-77820544b032"
      },
      "execution_count": 13,
      "outputs": [
        {
          "output_type": "stream",
          "name": "stdout",
          "text": [
            "\n",
            "Producto con más ventas: ('Electronics', 156905)\n",
            "\n",
            "Producto con menos ventas: ('Beauty', 143515)\n"
          ]
        }
      ]
    },
    {
      "cell_type": "markdown",
      "source": [],
      "metadata": {
        "id": "JHG-Vd_Z_rvA"
      }
    },
    {
      "cell_type": "code",
      "source": [
        "#filtrado de filas por nombre de producto o ropa\n",
        "filtered_product_sales = df[df['Product Category'] == 'Electronics']\n",
        "print(\"\\nFiltrado de ventas de 'Electronics':\")\n",
        "print(filtered_product_sales.head())\n",
        "\n",
        "filtered_store_sales = df[df['Product Category'] == 'Clothing']\n",
        "print(\"\\nFiltrado de ventas de 'Clothing':\")\n",
        "print(filtered_store_sales.head())\n"
      ],
      "metadata": {
        "id": "anGLuTtTwhAL",
        "colab": {
          "base_uri": "https://localhost:8080/"
        },
        "outputId": "98240f4b-dcea-49c8-d6ed-fd8aa45be72d"
      },
      "execution_count": 15,
      "outputs": [
        {
          "output_type": "stream",
          "name": "stdout",
          "text": [
            "\n",
            "Filtrado de ventas de 'Electronics':\n",
            "    Transaction ID       Date Customer ID  Gender  Age Product Category  \\\n",
            "2                3 2023-01-13     CUST003    Male   50      Electronics   \n",
            "7                8 2023-02-22     CUST008    Male   30      Electronics   \n",
            "8                9 2023-12-13     CUST009    Male   63      Electronics   \n",
            "12              13 2023-08-05     CUST013    Male   22      Electronics   \n",
            "14              15 2023-01-16     CUST015  Female   42      Electronics   \n",
            "\n",
            "    Quantity  Price per Unit  Total Amount  \n",
            "2          1              30            30  \n",
            "7          4              25           100  \n",
            "8          2             300           600  \n",
            "12         3             500          1500  \n",
            "14         4             500          2000  \n",
            "\n",
            "Filtrado de ventas de 'Clothing':\n",
            "    Transaction ID       Date Customer ID  Gender  Age Product Category  \\\n",
            "1                2 2023-02-27     CUST002  Female   26         Clothing   \n",
            "3                4 2023-05-21     CUST004    Male   37         Clothing   \n",
            "6                7 2023-03-13     CUST007    Male   46         Clothing   \n",
            "9               10 2023-10-07     CUST010  Female   52         Clothing   \n",
            "10              11 2023-02-14     CUST011    Male   23         Clothing   \n",
            "\n",
            "    Quantity  Price per Unit  Total Amount  \n",
            "1          2             500          1000  \n",
            "3          1             500           500  \n",
            "6          2              25            50  \n",
            "9          4              50           200  \n",
            "10         2              50           100  \n"
          ]
        }
      ]
    },
    {
      "cell_type": "code",
      "source": [
        "#Se calcula el total de ventas por cantidad\n",
        "total_sales_mult_quantity = df['Total Amount'] * df['Quantity']\n",
        "print(\"\\nMultiplicación del total de ventas por cantidad (primeras filas):\")\n",
        "print(total_sales_mult_quantity.head())\n",
        "\n"
      ],
      "metadata": {
        "id": "qO8eBhAax2fB",
        "colab": {
          "base_uri": "https://localhost:8080/"
        },
        "outputId": "e3868c3d-dffd-4c39-9a26-aef6408142a3"
      },
      "execution_count": 16,
      "outputs": [
        {
          "output_type": "stream",
          "name": "stdout",
          "text": [
            "\n",
            "Multiplicación del total de ventas por cantidad (primeras filas):\n",
            "0     450\n",
            "1    2000\n",
            "2      30\n",
            "3     500\n",
            "4     200\n",
            "dtype: int64\n"
          ]
        }
      ]
    },
    {
      "cell_type": "code",
      "source": [
        "# Suma de las cantidades vendidas\n",
        "sum_quantities = df['Quantity'].sum()\n",
        "# Diferencia de precios entre productos (Beauty y Clothing)\n",
        "price_diff = df[df['Product Category'] == 'Beauty']['Price per Unit'].mean() - \\\n",
        "             df[df['Product Category'] == 'Clothing']['Price per Unit'].mean()\n",
        "# Multiplicación del total de ventas por la cantidad vendida\n",
        "total_sales_mult_quantity = df['Total Amount'] * df['Quantity']\n",
        "# División del precio por unidad entre la cantidad\n",
        "price_per_quantity = df['Price per Unit'] / df['Quantity']\n",
        "print(f\"\\nSuma de cantidades vendidas: {sum_quantities}\")\n",
        "print(f\"Diferencia promedio de precio entre 'Beauty' y 'Clothing': {price_diff}\")\n",
        "print(\"\\nMultiplicación del total de ventas por cantidad (primeras filas):\")\n",
        "print(total_sales_mult_quantity.head())\n",
        "print(\"\\nDivisión del precio por cantidad (primeras filas):\")\n",
        "print(price_per_quantity.head())\n"
      ],
      "metadata": {
        "id": "xaOyTOO9yVUm",
        "colab": {
          "base_uri": "https://localhost:8080/"
        },
        "outputId": "e0d48449-d9d2-4334-d241-4da7250b581a"
      },
      "execution_count": 17,
      "outputs": [
        {
          "output_type": "stream",
          "name": "stdout",
          "text": [
            "\n",
            "Suma de cantidades vendidas: 2514\n",
            "Diferencia promedio de precio entre 'Beauty' y 'Clothing': 9.767625305084607\n",
            "\n",
            "Multiplicación del total de ventas por cantidad (primeras filas):\n",
            "0     450\n",
            "1    2000\n",
            "2      30\n",
            "3     500\n",
            "4     200\n",
            "dtype: int64\n",
            "\n",
            "División del precio por cantidad (primeras filas):\n",
            "0     16.666667\n",
            "1    250.000000\n",
            "2     30.000000\n",
            "3    500.000000\n",
            "4     25.000000\n",
            "dtype: float64\n"
          ]
        }
      ]
    },
    {
      "cell_type": "code",
      "source": [
        "\n",
        "df.value_counts('Product Category')\n",
        "\n",
        "#filtrado por valores numericos\n",
        "ventas_mayores_50 = df[df['Total Amount'] > 50]\n",
        "print(ventas_mayores_50.head())\n",
        "\n",
        "ventas_menores_05 = df[df['Total Amount'] < 0.5]\n",
        "print(ventas_menores_05)\n",
        "\n"
      ],
      "metadata": {
        "id": "8KJWkl1syqge",
        "colab": {
          "base_uri": "https://localhost:8080/"
        },
        "outputId": "a6eec93d-215b-481e-93f6-dee63949abe6"
      },
      "execution_count": 18,
      "outputs": [
        {
          "output_type": "stream",
          "name": "stdout",
          "text": [
            "   Transaction ID       Date Customer ID  Gender  Age Product Category  \\\n",
            "0               1 2023-11-24     CUST001    Male   34           Beauty   \n",
            "1               2 2023-02-27     CUST002  Female   26         Clothing   \n",
            "3               4 2023-05-21     CUST004    Male   37         Clothing   \n",
            "4               5 2023-05-06     CUST005    Male   30           Beauty   \n",
            "7               8 2023-02-22     CUST008    Male   30      Electronics   \n",
            "\n",
            "   Quantity  Price per Unit  Total Amount  \n",
            "0         3              50           150  \n",
            "1         2             500          1000  \n",
            "3         1             500           500  \n",
            "4         2              50           100  \n",
            "7         4              25           100  \n",
            "Empty DataFrame\n",
            "Columns: [Transaction ID, Date, Customer ID, Gender, Age, Product Category, Quantity, Price per Unit, Total Amount]\n",
            "Index: []\n"
          ]
        }
      ]
    }
  ]
}